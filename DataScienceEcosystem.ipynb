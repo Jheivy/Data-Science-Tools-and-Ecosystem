{
 "cells": [
  {
   "cell_type": "markdown",
   "id": "e6117217",
   "metadata": {},
   "source": [
    "# Data Science Tools and Ecosystem"
   ]
  },
  {
   "cell_type": "markdown",
   "id": "973ba592",
   "metadata": {},
   "source": [
    "In this notebook, data science tools and ecosystems are summarized.\n"
   ]
  },
  {
   "cell_type": "markdown",
   "id": "34c77dea",
   "metadata": {},
   "source": [
    "Some of the popular languages used by data scientists are:\n",
    "\n",
    "1. Python  \n",
    "2. R  \n",
    "3. SQL  \n",
    "4. Julia  \n",
    "5. Scala\n"
   ]
  },
  {
   "cell_type": "markdown",
   "id": "592437c3",
   "metadata": {},
   "source": [
    "Some of the libraries commonly used by data scientists include:\n",
    "\n",
    "1. Pandas  \n",
    "2. NumPy  \n",
    "3. Matplotlib  \n",
    "4. Scikit-learn  \n",
    "5. TensorFlow\n"
   ]
  },
  {
   "cell_type": "markdown",
   "id": "d3a4ce69",
   "metadata": {},
   "source": [
    "| Data Science Tools       |\n",
    "|----------------------------------------|\n",
    "| Jupyter Notebook                       |\n",
    "| RStudio                                |\n",
    "| Apache Zeppelin                        |\n"
   ]
  },
  {
   "cell_type": "markdown",
   "id": "5459be88",
   "metadata": {},
   "source": [
    "### Here are some examples of evaluating arithmetic expressions in Python.\n"
   ]
  },
  {
   "cell_type": "code",
   "execution_count": null,
   "id": "9e205819",
   "metadata": {},
   "outputs": [
    {
     "data": {
      "text/plain": [
       "17"
      ]
     },
     "execution_count": 1,
     "metadata": {},
     "output_type": "execute_result"
    }
   ],
   "source": [
    "# Here is a simple arithmetic expression for multiplying and then adding integers\n",
    "(3 * 4) + 5\n"
   ]
  },
  {
   "cell_type": "code",
   "execution_count": null,
   "id": "2d9a3f4d",
   "metadata": {},
   "outputs": [
    {
     "data": {
      "text/plain": [
       "3.3333333333333335"
      ]
     },
     "execution_count": 2,
     "metadata": {},
     "output_type": "execute_result"
    }
   ],
   "source": [
    "# This will convert 200 minutes to hours by dividing by 60.\n",
    "200 / 60\n"
   ]
  },
  {
   "cell_type": "markdown",
   "id": "054b182b",
   "metadata": {},
   "source": [
    "**Objectives:**\n",
    "\n",
    "- List popular languages for Data Science\n",
    "- Identify libraries used in Data Science\n",
    "- Creating tables in Markdown\n",
    "- Performing basic arithmetic operations in Python \n",
    "- Converting units such as minutes to hours using Python code\n"
   ]
  },
  {
   "cell_type": "markdown",
   "id": "9758de24",
   "metadata": {},
   "source": [
    "## Author\n",
    "\n",
    "Javier Herrero Pérez\n",
    "\n",
    "https://github.com/Jheivy/Data-Science-Tools-and-Ecosystem.git\n",
    "\n"
   ]
  }
 ],
 "metadata": {
  "kernelspec": {
   "display_name": ".venv",
   "language": "python",
   "name": "python3"
  },
  "language_info": {
   "codemirror_mode": {
    "name": "ipython",
    "version": 3
   },
   "file_extension": ".py",
   "mimetype": "text/x-python",
   "name": "python",
   "nbconvert_exporter": "python",
   "pygments_lexer": "ipython3",
   "version": "3.13.5"
  }
 },
 "nbformat": 4,
 "nbformat_minor": 5
}
